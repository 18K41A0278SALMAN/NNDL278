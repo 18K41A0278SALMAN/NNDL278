{
  "nbformat": 4,
  "nbformat_minor": 0,
  "metadata": {
    "colab": {
      "name": "assignment9.ipynb",
      "provenance": [],
      "collapsed_sections": [],
      "authorship_tag": "ABX9TyP7/FRMRQ2EBbIN7X1GgHdL",
      "include_colab_link": true
    },
    "kernelspec": {
      "name": "python3",
      "display_name": "Python 3"
    },
    "language_info": {
      "name": "python"
    }
  },
  "cells": [
    {
      "cell_type": "markdown",
      "metadata": {
        "id": "view-in-github",
        "colab_type": "text"
      },
      "source": [
        "<a href=\"https://colab.research.google.com/github/18K41A0278SALMAN/NNDL278/blob/main/assignment9.ipynb\" target=\"_parent\"><img src=\"https://colab.research.google.com/assets/colab-badge.svg\" alt=\"Open In Colab\"/></a>"
      ]
    },
    {
      "cell_type": "code",
      "metadata": {
        "colab": {
          "base_uri": "https://localhost:8080/"
        },
        "id": "6SNsa5VUkRGA",
        "outputId": "580a4098-c318-49d2-8172-330269ab6375"
      },
      "source": [
        "import numpy as np\n",
        "import pandas as pd\n",
        "import matplotlib.pyplot as plt\n",
        "data = [[0.2,3.4],[0.4,3.8],[0.6,4.2],[0.8,4.6]]\n",
        "data = np.array(data)\n",
        "print(data)"
      ],
      "execution_count": null,
      "outputs": [
        {
          "output_type": "stream",
          "text": [
            "[[0.2 3.4]\n",
            " [0.4 3.8]\n",
            " [0.6 4.2]\n",
            " [0.8 4.6]]\n"
          ],
          "name": "stdout"
        }
      ]
    },
    {
      "cell_type": "code",
      "metadata": {
        "colab": {
          "base_uri": "https://localhost:8080/"
        },
        "id": "Dax8D9yek1on",
        "outputId": "80a9cd44-e57e-47af-f887-8363c25f8b4f"
      },
      "source": [
        "\n",
        "data_x = []\n",
        "data_y = []\n",
        "for i in range(0,len(data)):\n",
        "  data_x.append(data[i][0])\n",
        "for i in range(0,len(data)):\n",
        "  data_y.append(data[i][1])\n",
        "data_x=np.array(data_x)\n",
        "data_y=np.array(data_y)\n",
        "m = 1\n",
        "c = -1\n",
        "iter = 1\n",
        "epochs = 10000\n",
        "alpha = 0.1\n",
        "ns = len(data)\n",
        "\n",
        "vm = 0\n",
        "vc = 0\n",
        "moment = 0.9\n",
        "# while loop is runned until iter reaches epochs\n",
        "while (iter<=epochs):\n",
        "  # running for loop to calculate and update model parameters \n",
        "  for i in range(0,len(data)):\n",
        "\n",
        "    #  calculating error and storing in an list\n",
        "    # err = (0.5) * ((data_y[i] - (m * data_x[i]) - c))**2\n",
        "    # error.append(err)\n",
        "\n",
        "    # calculating derivatives of m and c\n",
        "    der_m = (-1) * ((data_y[i] - (m * data_x[i]) - c ))*(data_x[i])\n",
        "    der_c = (-1) * (data_y[i] - (m * data_x[i]) - c )\n",
        "    # print(\"derivatives at \",i,\"   \",der_m,der_c)\n",
        "\n",
        "    # calculating change in m and c\n",
        "    vm = (moment * vm) - (alpha * der_m)\n",
        "    vc = (moment * vc) - (alpha * der_c)\n",
        "    # print(\"changes at \",i,vm,vc)\n",
        "\n",
        "    #updating m and c\n",
        "    m = m + vm\n",
        "    c = c + vc\n",
        "    # print(\"values at\",i,m,c)\n",
        "\n",
        "    #incrementing no of iterations\n",
        "  iter = iter + 1\n",
        " \n",
        "\n",
        "  \n",
        "print(m,c)"
      ],
      "execution_count": null,
      "outputs": [
        {
          "output_type": "stream",
          "text": [
            "1.9999999999999998 3.0\n"
          ],
          "name": "stdout"
        }
      ]
    },
    {
      "cell_type": "code",
      "metadata": {
        "id": "wYydDxZmk_Zy",
        "colab": {
          "base_uri": "https://localhost:8080/"
        },
        "outputId": "4c4391cc-f17c-42dc-9fc7-3752962d1340"
      },
      "source": [
        "mse = 0\n",
        "for i in range(0,len(data_x)):\n",
        "  mse += (data_y[i] - (m*data_x[i]) - c)**2\n",
        "\n",
        "mse = mse/len(data)\n",
        "print(mse)"
      ],
      "execution_count": null,
      "outputs": [
        {
          "output_type": "stream",
          "text": [
            "4.930380657631324e-32\n"
          ],
          "name": "stdout"
        }
      ]
    },
    {
      "cell_type": "code",
      "metadata": {
        "colab": {
          "base_uri": "https://localhost:8080/"
        },
        "id": "5A5hcfYOlNYk",
        "outputId": "b913d739-1804-4ed7-91b4-e1a663453ed9"
      },
      "source": [
        "pred = []\n",
        "# predictions of training data\n",
        "print(\"predicted\",\" original\")\n",
        "for i in range(0,len(data)):\n",
        "  pred.append(m*data_x[i] + c)\n",
        "\n",
        "print(pred)"
      ],
      "execution_count": null,
      "outputs": [
        {
          "output_type": "stream",
          "text": [
            "predicted  original\n",
            "[3.4, 3.8, 4.199999999999999, 4.6]\n"
          ],
          "name": "stdout"
        }
      ]
    },
    {
      "cell_type": "code",
      "metadata": {
        "colab": {
          "base_uri": "https://localhost:8080/",
          "height": 295
        },
        "id": "Zb3PAOFglY67",
        "outputId": "07cb53af-11ca-406f-c991-01ebdbeca229"
      },
      "source": [
        "plt.scatter(data_x,data_y,label=\"original data points\")\n",
        "plt.plot(data_x,pred,'green',label=\"regression line using MGD\")\n",
        "plt.legend()\n",
        "plt.grid()\n",
        "plt.title(\"linear regression using momentum gradient descent\")\n",
        "plt.xlabel(\"sample x\")\n",
        "plt.ylabel(\"sample y\")\n",
        "plt.show()"
      ],
      "execution_count": null,
      "outputs": [
        {
          "output_type": "display_data",
          "data": {
            "image/png": "[encoded data removed]",
            "text/plain": [
              "<Figure size 432x288 with 1 Axes>"
            ]
          },
          "metadata": {
            "tags": [],
            "needs_background": "light"
          }
        }
      ]
    }
  ]
}