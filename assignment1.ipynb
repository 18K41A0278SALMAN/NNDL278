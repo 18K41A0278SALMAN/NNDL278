{
  "nbformat": 4,
  "nbformat_minor": 0,
  "metadata": {
    "colab": {
      "name": "assignment1.ipynb",
      "provenance": [],
      "collapsed_sections": [],
      "authorship_tag": "ABX9TyOElyCQYOTGfF1GRFlR9MKN",
      "include_colab_link": true
    },
    "kernelspec": {
      "name": "python3",
      "display_name": "Python 3"
    },
    "language_info": {
      "name": "python"
    }
  },
  "cells": [
    {
      "cell_type": "markdown",
      "metadata": {
        "id": "view-in-github",
        "colab_type": "text"
      },
      "source": [
        "<a href=\"https://colab.research.google.com/github/18K41A0278SALMAN/NNDL278/blob/main/assignment1.ipynb\" target=\"_parent\"><img src=\"https://colab.research.google.com/assets/colab-badge.svg\" alt=\"Open In Colab\"/></a>"
      ]
    },
    {
      "cell_type": "code",
      "metadata": {
        "colab": {
          "base_uri": "https://localhost:8080/"
        },
        "id": "UMrpX0HW7zff",
        "outputId": "f46194e7-233b-40a1-f090-40558a738549"
      },
      "source": [
        "from sympy import *\n",
        "x = Symbol('x')\n",
        "\n",
        "#computing first derivative of equation and storing in variable y\n",
        "y = diff(x**4 + 3*x**2 + 10, x)\n",
        "print('derivative of y wrt x is ',y)"
      ],
      "execution_count": null,
      "outputs": [
        {
          "output_type": "stream",
          "text": [
            "derivative of y wrt x is  4*x**3 + 6*x\n"
          ],
          "name": "stdout"
        }
      ]
    },
    {
      "cell_type": "markdown",
      "metadata": {
        "id": "o62SQtMc8Dp4"
      },
      "source": [
        "\n",
        "derivative of y wrt x is  4*x**3 + 6*x"
      ]
    },
    {
      "cell_type": "code",
      "metadata": {
        "colab": {
          "base_uri": "https://localhost:8080/"
        },
        "id": "AYWsBBhp8Fvo",
        "outputId": "367ae920-c910-45a6-b151-703191e7d39e"
      },
      "source": [
        "def derive(xx):\n",
        "     x = symbols('x')\n",
        "     derivated = y.subs(x, xx) \n",
        "     derivated = round(derivated,2)\n",
        "     return derivated\n",
        "\n",
        "num_of_iters = 2\n",
        "epochs = 3\n",
        "N = 0.1\n",
        "slope = 1\n",
        "for i in range(1,epochs+1):\n",
        "  value = derive(slope)\n",
        "  change_in_x = (-1) * (N) * (value)\n",
        "  slope = slope + change_in_x\n",
        "\n",
        "print(slope)\n",
        "eqn = x**4 + 3*x**2 + 10\n",
        "x = Symbol('x')\n",
        "# substituting final slope in equation and computing the global minimum point for given equation\n",
        "print(\"global minimum point obtained for given equation is :\",eqn.subs(x,slope))\n",
        "print(\"final slope obtained is :\",slope)"
      ],
      "execution_count": null,
      "outputs": [
        {
          "output_type": "stream",
          "text": [
            "0\n",
            "global minimum point obtained for given equation is : 10\n",
            "final slope obtained is : 0\n"
          ],
          "name": "stdout"
        }
      ]
    }
  ]
}