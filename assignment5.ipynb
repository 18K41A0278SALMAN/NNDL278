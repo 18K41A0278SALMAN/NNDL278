{
  "nbformat": 4,
  "nbformat_minor": 0,
  "metadata": {
    "colab": {
      "name": "assignment5.ipynb",
      "provenance": [],
      "collapsed_sections": [],
      "authorship_tag": "ABX9TyO1gJLBVASSUGzBEiIigHmX",
      "include_colab_link": true
    },
    "kernelspec": {
      "name": "python3",
      "display_name": "Python 3"
    },
    "language_info": {
      "name": "python"
    }
  },
  "cells": [
    {
      "cell_type": "markdown",
      "metadata": {
        "id": "view-in-github",
        "colab_type": "text"
      },
      "source": [
        "<a href=\"https://colab.research.google.com/github/18K41A0278SALMAN/NNDL278/blob/main/assignment5.ipynb\" target=\"_parent\"><img src=\"https://colab.research.google.com/assets/colab-badge.svg\" alt=\"Open In Colab\"/></a>"
      ]
    },
    {
      "cell_type": "code",
      "metadata": {
        "id": "9b1T9q0pMtUW"
      },
      "source": [
        "import pandas as pd\n",
        "import numpy as np\n",
        "import matplotlib.pyplot as plt\n",
        "data = [[0.2,3.4],[0.4,3.8],[0.6,4.2],[0.8,4.6]] \n",
        "data_x = []\n",
        "data_y = []\n",
        "for i in range(len(data)):\n",
        "  data_x.append(data[i][0])\n",
        "  data_y.append(data[i][1])\n",
        "\n",
        "data_x = np.array(data_x)\n",
        "data_y = np.array(data_y)\n"
      ],
      "execution_count": null,
      "outputs": []
    },
    {
      "cell_type": "code",
      "metadata": {
        "colab": {
          "base_uri": "https://localhost:8080/"
        },
        "id": "DxzrWXJ9NvXO",
        "outputId": "237c161c-f018-449d-8b83-81d106669d5d"
      },
      "source": [
        "# INITIALISING BATCH SIZE AND CALCULATING NUMBER OF BATCHES\n",
        "bs = 2\n",
        "nb = np.ceil(len(data)/bs)\n",
        "print(nb)"
      ],
      "execution_count": null,
      "outputs": [
        {
          "output_type": "stream",
          "text": [
            "2.0\n"
          ],
          "name": "stdout"
        }
      ]
    },
    {
      "cell_type": "code",
      "metadata": {
        "colab": {
          "base_uri": "https://localhost:8080/"
        },
        "id": "FNi82SPlOB_W",
        "outputId": "4632113a-a71f-4c5a-cf14-df0df2bd9827"
      },
      "source": [
        "# SHUFFLING DATA POINTS\n",
        "import random\n",
        "samples = np.arange(len(data))\n",
        "random.shuffle(samples)\n",
        "print(samples)"
      ],
      "execution_count": null,
      "outputs": [
        {
          "output_type": "stream",
          "text": [
            "[1 2 0 3]\n"
          ],
          "name": "stdout"
        }
      ]
    },
    {
      "cell_type": "code",
      "metadata": {
        "colab": {
          "base_uri": "https://localhost:8080/"
        },
        "id": "SgR4GqZiOIJU",
        "outputId": "640a6bb4-aa57-42b3-a897-6cd442a9271e"
      },
      "source": [
        "for i in samples:\n",
        "  print(data_x[i],data_y[i])"
      ],
      "execution_count": null,
      "outputs": [
        {
          "output_type": "stream",
          "text": [
            "0.4 3.8\n",
            "0.6 4.2\n",
            "0.2 3.4\n",
            "0.8 4.6\n"
          ],
          "name": "stdout"
        }
      ]
    },
    {
      "cell_type": "code",
      "metadata": {
        "id": "PbBF9tiBOSJ_"
      },
      "source": [
        "iter = 1\n",
        "epochs = 500\n",
        "batch = nb - 1\n",
        "bat = 1\n",
        "n = 0.1 \n",
        "m = 1\n",
        "c = -1"
      ],
      "execution_count": null,
      "outputs": []
    },
    {
      "cell_type": "code",
      "metadata": {
        "colab": {
          "base_uri": "https://localhost:8080/"
        },
        "id": "rQHpVRW_ObMC",
        "outputId": "d1b8c3cb-cceb-47cb-a202-7e17907c17f2"
      },
      "source": [
        "while (iter<=epochs):\n",
        "  i = 0\n",
        "  # RUNNING ITERATION FOR N-1 BATCHES\n",
        "  while (bat <= batch):\n",
        "    der_m = 0\n",
        "    der_c = 0\n",
        "    err = 0\n",
        "    for k in range(0,bs):\n",
        "      der_m = der_m + (data_y[samples[i]] - (m*data_x[samples[i]])-c)*(data_x[samples[i]])\n",
        "      der_c = der_c + (data_y[samples[i]] - (m*data_x[samples[i]])-c)\n",
        "      i = i+1\n",
        "      \n",
        "    # err = der_c**2\n",
        "    # err = (1/(2*bs))*err\n",
        "    # error.append(err)\n",
        "    \n",
        "    der_m = (1/bs)*der_m\n",
        "    der_c = (1/bs)*der_c\n",
        "    change_m = (-1)*n*der_m\n",
        "    change_c = (-1)*n*der_c\n",
        "    \n",
        "    m = m + change_m\n",
        "    c = c + change_c\n",
        "    bat = bat + 1\n",
        "    \n",
        " \n",
        "  # EXECUTING FOR LAST BATCH\n",
        "  der_m = 0\n",
        "  der_c = 0\n",
        "  err = 0\n",
        "  # FINDING REMAINING NUMBER OF BATCHES\n",
        "  es = len(samples) - i  \n",
        "  \n",
        "  for k in range(i,len(samples)):\n",
        "    der_m = der_m + (data_y[samples[i]] - (m*data_x[samples[i]])-c)*(data_x[samples[i]])\n",
        "    der_c = der_c + (data_y[samples[i]] - (m*data_x[samples[i]])-c)\n",
        "    i = i + 1\n",
        "  der_m = (-1/es)*der_m\n",
        "  der_c = (-1/es)*der_c\n",
        "  \n",
        "  change_m = (-1)*n*der_m\n",
        "  change_c = (-1)*n*der_c\n",
        "  \n",
        "  m = m + change_m\n",
        "  c = c + change_c\n",
        "  \n",
        "  iter = iter + 1\n",
        "\n",
        "print(m,c)"
      ],
      "execution_count": null,
      "outputs": [
        {
          "output_type": "stream",
          "text": [
            "2.1181378779571687 2.9384908568091244\n"
          ],
          "name": "stdout"
        }
      ]
    },
    {
      "cell_type": "code",
      "metadata": {
        "colab": {
          "base_uri": "https://localhost:8080/"
        },
        "id": "m_vmwepkOl4z",
        "outputId": "d05edf88-9c80-4dc1-a28d-230c35a74ca5"
      },
      "source": [
        "# MEAN SQUARE ERROR IN EXPONENTIAL FORM\n",
        "# MINIMISED ERROR\n",
        "mse = 0\n",
        "for i in range(0,len(data)):\n",
        "  mse += (data_y[i] - (m*data_x[i]) -c)**2\n",
        "mse = (1/len(data))*mse\n",
        "print(mse)"
      ],
      "execution_count": null,
      "outputs": [
        {
          "output_type": "stream",
          "text": [
            "0.0007037825070088345\n"
          ],
          "name": "stdout"
        }
      ]
    },
    {
      "cell_type": "code",
      "metadata": {
        "colab": {
          "base_uri": "https://localhost:8080/"
        },
        "id": "hqQgaK8-OlsE",
        "outputId": "6a32bc38-56f1-4f55-d5c1-60408ad80432"
      },
      "source": [
        "pred = []\n",
        "for i in range(0,len(data)):\n",
        "  pred.append(m*data_x[i] + c)\n",
        "pred"
      ],
      "execution_count": null,
      "outputs": [
        {
          "output_type": "execute_result",
          "data": {
            "text/plain": [
              "[3.362118432400558, 3.785746007991992, 4.209373583583425, 4.633001159174859]"
            ]
          },
          "metadata": {
            "tags": []
          },
          "execution_count": 8
        }
      ]
    },
    {
      "cell_type": "code",
      "metadata": {
        "colab": {
          "base_uri": "https://localhost:8080/",
          "height": 295
        },
        "id": "tGWwNv2gO104",
        "outputId": "8971a7f5-9391-4332-e155-c0e757e56d80"
      },
      "source": [
        "plt.scatter(data_x,data_y,label='Original Data Points')\n",
        "plt.plot(data_x,pred,'green',label='Predicted Regression Line')\n",
        "plt.legend()\n",
        "plt.title(\"Linear Regression using Mini Batch Gradient Descent\")\n",
        "plt.xlabel(\"sample X\")\n",
        "plt.ylabel(\"sample Y\")\n",
        "plt.grid()"
      ],
      "execution_count": null,
      "outputs": [
        {
          "output_type": "display_data",
          "data": {
            "image/png": "[encoded data removed]",
            "text/plain": [
              "<Figure size 432x288 with 1 Axes>"
            ]
          },
          "metadata": {
            "tags": [],
            "needs_background": "light"
          }
        }
      ]
    }
  ]
}